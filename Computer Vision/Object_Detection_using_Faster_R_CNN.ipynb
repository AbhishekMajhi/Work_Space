{
  "nbformat": 4,
  "nbformat_minor": 0,
  "metadata": {
    "colab": {
      "provenance": [],
      "toc_visible": true
    },
    "kernelspec": {
      "name": "python3",
      "display_name": "Python 3"
    }
  },
  "cells": [
    {
      "cell_type": "markdown",
      "metadata": {
        "id": "Vp5f2I4FbhTf"
      },
      "source": [
        "# Dude it's time for Object Detection using Faster R-CNN.\n",
        "**Here the dataset we are using from Google’s Open Images Dataset v4 (Bounding Boxes)."
      ]
    },
    {
      "cell_type": "markdown",
      "metadata": {
        "id": "vDin5dBmcGha"
      },
      "source": [
        "# Downloading the dataset."
      ]
    },
    {
      "cell_type": "code",
      "metadata": {
        "id": "vo_SgIWdaa0f"
      },
      "source": [
        "#API = kaggle competitions download -c open-images-2019-object-detection\n",
        "import cv2\n",
        "from matplotlib import pyplot as plt\n",
        "import numpy as np\n",
        "import os\n",
        "import pandas as pd\n",
        "import random\n",
        "from skimage import io\n",
        "from shutil import copyfile\n",
        "import sys\n",
        "import time\n",
        "import glob\n",
        "import tensorflow as tf\n",
        "from tensorflow.keras.preprocessing.image import load_img, img_to_array"
      ],
      "execution_count": null,
      "outputs": []
    },
    {
      "cell_type": "code",
      "metadata": {
        "id": "vQiB7GjwlzkD"
      },
      "source": [
        "!pip install --upgrade --force-reinstall --no-deps kaggle"
      ],
      "execution_count": null,
      "outputs": []
    },
    {
      "cell_type": "code",
      "metadata": {
        "colab": {
          "base_uri": "https://localhost:8080/"
        },
        "id": "yZyN5UR3hZvP",
        "outputId": "fa83153a-ef7a-455e-c362-40029e3c5f5d"
      },
      "source": [
        "os.listdir()"
      ],
      "execution_count": null,
      "outputs": [
        {
          "output_type": "execute_result",
          "data": {
            "text/plain": [
              "['.config', 'drive', 'sample_data']"
            ]
          },
          "metadata": {
            "tags": []
          },
          "execution_count": 3
        }
      ]
    },
    {
      "cell_type": "code",
      "metadata": {
        "id": "FvTeEpR7hfoh"
      },
      "source": [
        "#!mkdir .kaggle\n",
        "#os.chdir('.kaggle')\n",
        "#os.chdir('../.')"
      ],
      "execution_count": null,
      "outputs": []
    },
    {
      "cell_type": "code",
      "metadata": {
        "id": "m_q8lim2hiLV"
      },
      "source": [
        "#import json\n",
        "\n",
        "#token = {\"username\": \"steveabhishek\", \"key\": \"784b75b23b20db654f0ebdffe71d14c1\"}\n",
        "\n",
        "#with open('/content/.kaggle/Kaggle.json', 'w') as file:\n",
        " # json.dump(token, file)"
      ],
      "execution_count": null,
      "outputs": []
    },
    {
      "cell_type": "code",
      "metadata": {
        "id": "mzg1Ulo8pFrW"
      },
      "source": [
        "!pip install -q kaggle"
      ],
      "execution_count": null,
      "outputs": []
    },
    {
      "cell_type": "code",
      "metadata": {
        "id": "GwqUAleYqd5W"
      },
      "source": [
        "!mkdir -p ~/.kaggle"
      ],
      "execution_count": null,
      "outputs": []
    },
    {
      "cell_type": "code",
      "metadata": {
        "colab": {
          "base_uri": "https://localhost:8080/"
        },
        "id": "HhklvnZOqpTu",
        "outputId": "842e634e-c355-4fa1-e295-c2ee7a5bb6a6"
      },
      "source": [
        "os.listdir()"
      ],
      "execution_count": null,
      "outputs": [
        {
          "output_type": "execute_result",
          "data": {
            "text/plain": [
              "['.config', 'drive', 'sample_data']"
            ]
          },
          "metadata": {
            "tags": []
          },
          "execution_count": 6
        }
      ]
    },
    {
      "cell_type": "code",
      "metadata": {
        "id": "ndTDK84mqd8X"
      },
      "source": [
        "!cp /content/drive/MyDrive/kaggle.json ~/.kaggle/kaggle.json"
      ],
      "execution_count": null,
      "outputs": []
    },
    {
      "cell_type": "code",
      "metadata": {
        "colab": {
          "base_uri": "https://localhost:8080/"
        },
        "id": "5xxRSOuRqd-0",
        "outputId": "ae8b0356-25ee-4362-8ddf-810d159bb11c"
      },
      "source": [
        "!ls ~/.kaggle"
      ],
      "execution_count": null,
      "outputs": [
        {
          "output_type": "stream",
          "text": [
            "kaggle.json\n"
          ],
          "name": "stdout"
        }
      ]
    },
    {
      "cell_type": "code",
      "metadata": {
        "id": "DuFvpmmkrC38"
      },
      "source": [
        "!chmod 600 /root/.kaggle/kaggle.json"
      ],
      "execution_count": null,
      "outputs": []
    },
    {
      "cell_type": "code",
      "metadata": {
        "colab": {
          "base_uri": "https://localhost:8080/"
        },
        "id": "aYuXZX0frjBx",
        "outputId": "c28ab5f3-fc6a-4b77-85fb-eaeb35bae934"
      },
      "source": [
        "!kaggle competitions download -c google-ai-open-images-object-detection-track"
      ],
      "execution_count": null,
      "outputs": [
        {
          "output_type": "stream",
          "text": [
            "403 - Forbidden\n"
          ],
          "name": "stdout"
        }
      ]
    },
    {
      "cell_type": "code",
      "metadata": {
        "id": "vEuLFYQ8tZoG",
        "colab": {
          "base_uri": "https://localhost:8080/"
        },
        "outputId": "b1c3dbb6-49e5-455d-f252-e32af966207f"
      },
      "source": [
        "!kaggle -v"
      ],
      "execution_count": null,
      "outputs": [
        {
          "output_type": "stream",
          "text": [
            "Kaggle API 1.5.10\n"
          ],
          "name": "stdout"
        }
      ]
    },
    {
      "cell_type": "markdown",
      "metadata": {
        "id": "zVGTF9Dftdtc"
      },
      "source": [
        "**Damn those errors!!! I m totally pissed up. Now lets use request package to simply download them all.**<br>\n",
        "**Here the file is 10GB including round figure..**"
      ]
    },
    {
      "cell_type": "code",
      "metadata": {
        "id": "csv7GhrGpzmB"
      },
      "source": [
        "import requests"
      ],
      "execution_count": null,
      "outputs": []
    },
    {
      "cell_type": "code",
      "metadata": {
        "id": "6_U2Vf6Isgf2"
      },
      "source": [
        "url = \"https://storage.googleapis.com/kaggle-competitions-data/kaggle-v2/9949/862556/bundle/archive.zip?GoogleAccessId=web-data@kaggle-161607.iam.gserviceaccount.com&Expires=1613014282&Signature=k6jBAbop2DlwvSrTw1WQc9At12K4%2BfbfuSJNIIO%2BYOyxv%2FRNdFkeEpVHjurUHhjxtubLkcPGVvs%2FaMj8a%2FIrI2Q1RqihNyhNIA3TqSuGuNkXzlzsr4VIHnRaRihEp1tyD1PcVObb%2BOcZABxBdiwZTo9kRJqE5p1iAyhfFhQJKuar1oN8cyue9r8%2FbyO5rQSTjFktxNJr140VXAYBSsSWYB7K2yZJIDLMi3uE4hfBj8W1umtrRv%2B9aLua24bEOLBJkQUmCuxPMIvNIm%2F5U8CgzcFRkMqYl5ZmG8GPb8WpDx0aWMLUY%2F09z%2FSors2xWXAkXQI1%2Bu3IxUeiYGJ4s1CCcw%3D%3D&response-content-disposition=attachment%3B+filename%3Dgoogle-ai-open-images-object-detection-track.zip\""
      ],
      "execution_count": null,
      "outputs": []
    },
    {
      "cell_type": "code",
      "metadata": {
        "id": "Sa2Fn8Xss6bB"
      },
      "source": [
        "####Don't run this cell...\n",
        "def fixBadZipfile(zipFile):\n",
        " f = open(zipFile, 'r+b')\n",
        " data = f.read()\n",
        " pos = data.find('\\x50\\x4b\\x05\\x06') # End of central directory signature\n",
        " if (pos > 0):\n",
        "     self._log(\"Trancating file at location \" + str(pos + 22)+ \".\")\n",
        "     f.seek(pos + 22)   # size of 'ZIP end of central directory record'\n",
        "     f.truncate()\n",
        "     f.close()\n",
        " else:\n",
        "   raise error\n",
        "\n"
      ],
      "execution_count": null,
      "outputs": []
    },
    {
      "cell_type": "code",
      "metadata": {
        "id": "pqEh1pFwxegH"
      },
      "source": [
        "def download_file(url):\n",
        "    local_filename = 'object-detection-track.zip'\n",
        "    # NOTE the stream=True parameter below\n",
        "    with requests.get(url, stream=True) as r:\n",
        "        r.raise_for_status()\n",
        "        with open(local_filename, 'wb') as f:\n",
        "            for chunk in r.iter_content(chunk_size=8192):\n",
        "                # If you have chunk encoded response uncomment if\n",
        "                # and set chunk_size parameter to None.\n",
        "                #if chunk:\n",
        "                f.write(chunk)\n",
        "    return local_filename"
      ],
      "execution_count": null,
      "outputs": []
    },
    {
      "cell_type": "code",
      "metadata": {
        "colab": {
          "base_uri": "https://localhost:8080/",
          "height": 36
        },
        "id": "pmboroyIzKN-",
        "outputId": "6b38dce2-e3b4-4ffa-ab1d-4ef2eb4c157a"
      },
      "source": [
        "url = \"https://storage.googleapis.com/kaggle-competitions-data/kaggle-v2/9949/862556/bundle/archive.zip?GoogleAccessId=web-data@kaggle-161607.iam.gserviceaccount.com&Expires=1613014282&Signature=k6jBAbop2DlwvSrTw1WQc9At12K4%2BfbfuSJNIIO%2BYOyxv%2FRNdFkeEpVHjurUHhjxtubLkcPGVvs%2FaMj8a%2FIrI2Q1RqihNyhNIA3TqSuGuNkXzlzsr4VIHnRaRihEp1tyD1PcVObb%2BOcZABxBdiwZTo9kRJqE5p1iAyhfFhQJKuar1oN8cyue9r8%2FbyO5rQSTjFktxNJr140VXAYBSsSWYB7K2yZJIDLMi3uE4hfBj8W1umtrRv%2B9aLua24bEOLBJkQUmCuxPMIvNIm%2F5U8CgzcFRkMqYl5ZmG8GPb8WpDx0aWMLUY%2F09z%2FSors2xWXAkXQI1%2Bu3IxUeiYGJ4s1CCcw%3D%3D&response-content-disposition=attachment%3B+filename%3Dgoogle-ai-open-images-object-detection-track.zip\"\n",
        "download_file(url)"
      ],
      "execution_count": null,
      "outputs": [
        {
          "output_type": "execute_result",
          "data": {
            "application/vnd.google.colaboratory.intrinsic+json": {
              "type": "string"
            },
            "text/plain": [
              "'object-detection-track.zip'"
            ]
          },
          "metadata": {
            "tags": []
          },
          "execution_count": 37
        }
      ]
    },
    {
      "cell_type": "code",
      "metadata": {
        "id": "w-bId6-K0MNX"
      },
      "source": [
        "import zipfile\n",
        "\n",
        "path = \"/content/object-detection-track.zip\"\n",
        "dest = \"/content/sample_data/object-detection-track\"\n",
        "with zipfile.ZipFile(path, 'r') as zip_ref:\n",
        "    zip_ref.extractall(dest)"
      ],
      "execution_count": null,
      "outputs": []
    },
    {
      "cell_type": "markdown",
      "metadata": {
        "id": "ta9Bfb55IgR8"
      },
      "source": [
        "# Demo part"
      ]
    },
    {
      "cell_type": "code",
      "metadata": {
        "colab": {
          "base_uri": "https://localhost:8080/"
        },
        "id": "F2ylfFLeJV4S",
        "outputId": "79bfc291-08b3-45bc-8dd3-a4a1f7cf55c3"
      },
      "source": [
        "!wget https://storage.googleapis.com/openimages/2018_04/train/train-annotations-bbox.csv"
      ],
      "execution_count": null,
      "outputs": [
        {
          "output_type": "stream",
          "text": [
            "--2021-02-08 14:57:07--  https://storage.googleapis.com/openimages/2018_04/train/train-annotations-bbox.csv\n",
            "Resolving storage.googleapis.com (storage.googleapis.com)... 172.253.123.128, 142.250.98.128, 74.125.134.128, ...\n",
            "Connecting to storage.googleapis.com (storage.googleapis.com)|172.253.123.128|:443... connected.\n",
            "HTTP request sent, awaiting response... 200 OK\n",
            "Length: 1194033454 (1.1G) [text/csv]\n",
            "Saving to: ‘train-annotations-bbox.csv’\n",
            "\n",
            "train-annotations-b 100%[===================>]   1.11G   113MB/s    in 9.3s    \n",
            "\n",
            "2021-02-08 14:57:17 (123 MB/s) - ‘train-annotations-bbox.csv’ saved [1194033454/1194033454]\n",
            "\n"
          ],
          "name": "stdout"
        }
      ]
    },
    {
      "cell_type": "code",
      "metadata": {
        "id": "w3FwaQBYzUp4",
        "colab": {
          "base_uri": "https://localhost:8080/"
        },
        "outputId": "8939202d-a977-40ae-c84c-c2ec1752e7f9"
      },
      "source": [
        "!wget https://storage.googleapis.com/openimages/2018_04/train/train-images-boxable-with-rotation.csv"
      ],
      "execution_count": null,
      "outputs": [
        {
          "output_type": "stream",
          "text": [
            "--2021-02-08 14:53:31--  https://storage.googleapis.com/openimages/2018_04/train/train-images-boxable-with-rotation.csv\n",
            "Resolving storage.googleapis.com (storage.googleapis.com)... 64.233.170.128, 108.177.11.128, 172.217.193.128, ...\n",
            "Connecting to storage.googleapis.com (storage.googleapis.com)|64.233.170.128|:443... connected.\n",
            "HTTP request sent, awaiting response... 200 OK\n",
            "Length: 638407721 (609M) [text/csv]\n",
            "Saving to: ‘train-images-boxable-with-rotation.csv’\n",
            "\n",
            "train-images-boxabl 100%[===================>] 608.83M   251MB/s    in 2.4s    \n",
            "\n",
            "2021-02-08 14:53:33 (251 MB/s) - ‘train-images-boxable-with-rotation.csv’ saved [638407721/638407721]\n",
            "\n"
          ],
          "name": "stdout"
        }
      ]
    },
    {
      "cell_type": "code",
      "metadata": {
        "colab": {
          "base_uri": "https://localhost:8080/"
        },
        "id": "oSGReQs9IijC",
        "outputId": "92f4b79d-1d22-4884-ee2a-7bc4b35f43f8"
      },
      "source": [
        "!wget https://storage.googleapis.com/openimages/v5/class-descriptions-boxable.csv"
      ],
      "execution_count": null,
      "outputs": [
        {
          "output_type": "stream",
          "text": [
            "--2021-02-08 14:53:45--  https://storage.googleapis.com/openimages/v5/class-descriptions-boxable.csv\n",
            "Resolving storage.googleapis.com (storage.googleapis.com)... 173.194.210.128, 173.194.216.128, 173.194.217.128, ...\n",
            "Connecting to storage.googleapis.com (storage.googleapis.com)|173.194.210.128|:443... connected.\n",
            "HTTP request sent, awaiting response... 200 OK\n",
            "Length: 12011 (12K) [text/csv]\n",
            "Saving to: ‘class-descriptions-boxable.csv’\n",
            "\n",
            "\r          class-des   0%[                    ]       0  --.-KB/s               \rclass-descriptions- 100%[===================>]  11.73K  --.-KB/s    in 0s      \n",
            "\n",
            "2021-02-08 14:53:45 (91.6 MB/s) - ‘class-descriptions-boxable.csv’ saved [12011/12011]\n",
            "\n"
          ],
          "name": "stdout"
        }
      ]
    },
    {
      "cell_type": "code",
      "metadata": {
        "colab": {
          "base_uri": "https://localhost:8080/",
          "height": 36
        },
        "id": "hhZ5If-vJtPS",
        "outputId": "f9bf3a8e-cd1a-4bef-8264-2b20e577f21b"
      },
      "source": [
        "# Just for data backup...\n",
        "import shutil\n",
        "path1 = \"/content/train-annotations-bbox.csv\"\n",
        "path2 = \"/content/train-images-boxable-with-rotation.csv\"\n",
        "path3 = \"/content/class-descriptions-boxable.csv\"\n",
        "\n",
        "dest1  = \"/content/drive/MyDrive/Datasets/Object Detection/train-annotations-bbox.csv\"\n",
        "dest2 = \"/content/drive/MyDrive/Datasets/Object Detection/train-images-boxable-with-rotation.csv\"\n",
        "dest3 = \"/content/drive/MyDrive/Datasets/Object Detection/class-descriptions-boxable.csv\"\n",
        "\n",
        "shutil.move(path1, dest1)\n",
        "shutil.move(path2, dest2)\n",
        "shutil.move(path3, dest3)"
      ],
      "execution_count": null,
      "outputs": [
        {
          "output_type": "execute_result",
          "data": {
            "application/vnd.google.colaboratory.intrinsic+json": {
              "type": "string"
            },
            "text/plain": [
              "'/content/drive/MyDrive/Datasets/Object Detection/class-descriptions-boxable.csv'"
            ]
          },
          "metadata": {
            "tags": []
          },
          "execution_count": 11
        }
      ]
    },
    {
      "cell_type": "code",
      "metadata": {
        "id": "-NrKr11cImAc"
      },
      "source": [
        "images_boxable_fname = \"/content/drive/MyDrive/Datasets/Object Detection/train-images-boxable-with-rotation.csv\"\n",
        "annotations_bbox_fname =  \"/content/drive/MyDrive/Datasets/Object Detection/train-annotations-bbox.csv\"\n",
        "class_descriptions_fname = \"/content/drive/MyDrive/Datasets/Object Detection/class-descriptions-boxable.csv\""
      ],
      "execution_count": null,
      "outputs": []
    },
    {
      "cell_type": "code",
      "metadata": {
        "colab": {
          "base_uri": "https://localhost:8080/",
          "height": 487
        },
        "id": "wVJRWMgVIvio",
        "outputId": "e5438d03-088c-42f4-9236-d997dc318eff"
      },
      "source": [
        "images_boxable = pd.read_csv(images_boxable_fname)\n",
        "images_boxable.head()"
      ],
      "execution_count": null,
      "outputs": [
        {
          "output_type": "execute_result",
          "data": {
            "text/html": [
              "<div>\n",
              "<style scoped>\n",
              "    .dataframe tbody tr th:only-of-type {\n",
              "        vertical-align: middle;\n",
              "    }\n",
              "\n",
              "    .dataframe tbody tr th {\n",
              "        vertical-align: top;\n",
              "    }\n",
              "\n",
              "    .dataframe thead th {\n",
              "        text-align: right;\n",
              "    }\n",
              "</style>\n",
              "<table border=\"1\" class=\"dataframe\">\n",
              "  <thead>\n",
              "    <tr style=\"text-align: right;\">\n",
              "      <th></th>\n",
              "      <th>ImageID</th>\n",
              "      <th>Subset</th>\n",
              "      <th>OriginalURL</th>\n",
              "      <th>OriginalLandingURL</th>\n",
              "      <th>License</th>\n",
              "      <th>AuthorProfileURL</th>\n",
              "      <th>Author</th>\n",
              "      <th>Title</th>\n",
              "      <th>OriginalSize</th>\n",
              "      <th>OriginalMD5</th>\n",
              "      <th>Thumbnail300KURL</th>\n",
              "      <th>Rotation</th>\n",
              "    </tr>\n",
              "  </thead>\n",
              "  <tbody>\n",
              "    <tr>\n",
              "      <th>0</th>\n",
              "      <td>4fa8054781a4c382</td>\n",
              "      <td>train</td>\n",
              "      <td>https://farm3.staticflickr.com/5310/5898076654...</td>\n",
              "      <td>https://www.flickr.com/photos/michael-beat/589...</td>\n",
              "      <td>https://creativecommons.org/licenses/by/2.0/</td>\n",
              "      <td>https://www.flickr.com/people/michael-beat/</td>\n",
              "      <td>Michael Beat</td>\n",
              "      <td>...die FNF-Kerze</td>\n",
              "      <td>4405052</td>\n",
              "      <td>KFukvivpCM5QXl5SqKe41g==</td>\n",
              "      <td>https://c1.staticflickr.com/6/5310/5898076654_...</td>\n",
              "      <td>0.0</td>\n",
              "    </tr>\n",
              "    <tr>\n",
              "      <th>1</th>\n",
              "      <td>b37f763ae67d0888</td>\n",
              "      <td>train</td>\n",
              "      <td>https://c1.staticflickr.com/1/67/197493648_628...</td>\n",
              "      <td>https://www.flickr.com/photos/drstarbuck/19749...</td>\n",
              "      <td>https://creativecommons.org/licenses/by/2.0/</td>\n",
              "      <td>https://www.flickr.com/people/drstarbuck/</td>\n",
              "      <td>Karen</td>\n",
              "      <td>Three boys on a hill</td>\n",
              "      <td>494555</td>\n",
              "      <td>9IzEn38GRNsVpATuv7gzEA==</td>\n",
              "      <td>https://c3.staticflickr.com/1/67/197493648_628...</td>\n",
              "      <td>0.0</td>\n",
              "    </tr>\n",
              "    <tr>\n",
              "      <th>2</th>\n",
              "      <td>7e8584b0f487cb9e</td>\n",
              "      <td>train</td>\n",
              "      <td>https://c7.staticflickr.com/8/7056/7143870979_...</td>\n",
              "      <td>https://www.flickr.com/photos/circasassy/71438...</td>\n",
              "      <td>https://creativecommons.org/licenses/by/2.0/</td>\n",
              "      <td>https://www.flickr.com/people/circasassy/</td>\n",
              "      <td>CircaSassy</td>\n",
              "      <td>A Christmas carol and The cricket on the heart...</td>\n",
              "      <td>2371584</td>\n",
              "      <td>3hQwu0iSzY1VIoXiwp0/Mg==</td>\n",
              "      <td>https://c7.staticflickr.com/8/7056/7143870979_...</td>\n",
              "      <td>0.0</td>\n",
              "    </tr>\n",
              "    <tr>\n",
              "      <th>3</th>\n",
              "      <td>86638230febe21c4</td>\n",
              "      <td>train</td>\n",
              "      <td>https://farm5.staticflickr.com/5128/5301868579...</td>\n",
              "      <td>https://www.flickr.com/photos/ajcreencia/53018...</td>\n",
              "      <td>https://creativecommons.org/licenses/by/2.0/</td>\n",
              "      <td>https://www.flickr.com/people/ajcreencia/</td>\n",
              "      <td>Alex</td>\n",
              "      <td>Abbey and Kenny</td>\n",
              "      <td>949267</td>\n",
              "      <td>onB+rCZnGQg5PRX7xOs18Q==</td>\n",
              "      <td>https://c4.staticflickr.com/6/5128/5301868579_...</td>\n",
              "      <td>NaN</td>\n",
              "    </tr>\n",
              "    <tr>\n",
              "      <th>4</th>\n",
              "      <td>249086e72671397d</td>\n",
              "      <td>train</td>\n",
              "      <td>https://c6.staticflickr.com/4/3930/15342460029...</td>\n",
              "      <td>https://www.flickr.com/photos/codnewsroom/1534...</td>\n",
              "      <td>https://creativecommons.org/licenses/by/2.0/</td>\n",
              "      <td>https://www.flickr.com/people/codnewsroom/</td>\n",
              "      <td>COD Newsroom</td>\n",
              "      <td>Suburban Law Enforcement Academy 20th Annivers...</td>\n",
              "      <td>6541758</td>\n",
              "      <td>MjpaAVbMAWbCusSaxI1D7w==</td>\n",
              "      <td>https://c1.staticflickr.com/4/3930/15342460029...</td>\n",
              "      <td>0.0</td>\n",
              "    </tr>\n",
              "  </tbody>\n",
              "</table>\n",
              "</div>"
            ],
            "text/plain": [
              "            ImageID  ... Rotation\n",
              "0  4fa8054781a4c382  ...      0.0\n",
              "1  b37f763ae67d0888  ...      0.0\n",
              "2  7e8584b0f487cb9e  ...      0.0\n",
              "3  86638230febe21c4  ...      NaN\n",
              "4  249086e72671397d  ...      0.0\n",
              "\n",
              "[5 rows x 12 columns]"
            ]
          },
          "metadata": {
            "tags": []
          },
          "execution_count": 6
        }
      ]
    },
    {
      "cell_type": "code",
      "metadata": {
        "colab": {
          "base_uri": "https://localhost:8080/",
          "height": 226
        },
        "id": "IjfUvm0BIzyO",
        "outputId": "a7057fc3-b4c2-41f6-e9c1-50484ca90ac6"
      },
      "source": [
        "annotations_bbox = pd.read_csv(annotations_bbox_fname)\n",
        "annotations_bbox.head()"
      ],
      "execution_count": null,
      "outputs": [
        {
          "output_type": "execute_result",
          "data": {
            "text/html": [
              "<div>\n",
              "<style scoped>\n",
              "    .dataframe tbody tr th:only-of-type {\n",
              "        vertical-align: middle;\n",
              "    }\n",
              "\n",
              "    .dataframe tbody tr th {\n",
              "        vertical-align: top;\n",
              "    }\n",
              "\n",
              "    .dataframe thead th {\n",
              "        text-align: right;\n",
              "    }\n",
              "</style>\n",
              "<table border=\"1\" class=\"dataframe\">\n",
              "  <thead>\n",
              "    <tr style=\"text-align: right;\">\n",
              "      <th></th>\n",
              "      <th>ImageID</th>\n",
              "      <th>Source</th>\n",
              "      <th>LabelName</th>\n",
              "      <th>Confidence</th>\n",
              "      <th>XMin</th>\n",
              "      <th>XMax</th>\n",
              "      <th>YMin</th>\n",
              "      <th>YMax</th>\n",
              "      <th>IsOccluded</th>\n",
              "      <th>IsTruncated</th>\n",
              "      <th>IsGroupOf</th>\n",
              "      <th>IsDepiction</th>\n",
              "      <th>IsInside</th>\n",
              "    </tr>\n",
              "  </thead>\n",
              "  <tbody>\n",
              "    <tr>\n",
              "      <th>0</th>\n",
              "      <td>000002b66c9c498e</td>\n",
              "      <td>xclick</td>\n",
              "      <td>/m/01g317</td>\n",
              "      <td>1</td>\n",
              "      <td>0.012500</td>\n",
              "      <td>0.195312</td>\n",
              "      <td>0.148438</td>\n",
              "      <td>0.587500</td>\n",
              "      <td>0</td>\n",
              "      <td>1</td>\n",
              "      <td>0</td>\n",
              "      <td>0</td>\n",
              "      <td>0</td>\n",
              "    </tr>\n",
              "    <tr>\n",
              "      <th>1</th>\n",
              "      <td>000002b66c9c498e</td>\n",
              "      <td>xclick</td>\n",
              "      <td>/m/01g317</td>\n",
              "      <td>1</td>\n",
              "      <td>0.025000</td>\n",
              "      <td>0.276563</td>\n",
              "      <td>0.714063</td>\n",
              "      <td>0.948438</td>\n",
              "      <td>0</td>\n",
              "      <td>1</td>\n",
              "      <td>0</td>\n",
              "      <td>0</td>\n",
              "      <td>0</td>\n",
              "    </tr>\n",
              "    <tr>\n",
              "      <th>2</th>\n",
              "      <td>000002b66c9c498e</td>\n",
              "      <td>xclick</td>\n",
              "      <td>/m/01g317</td>\n",
              "      <td>1</td>\n",
              "      <td>0.151562</td>\n",
              "      <td>0.310937</td>\n",
              "      <td>0.198437</td>\n",
              "      <td>0.590625</td>\n",
              "      <td>1</td>\n",
              "      <td>0</td>\n",
              "      <td>0</td>\n",
              "      <td>0</td>\n",
              "      <td>0</td>\n",
              "    </tr>\n",
              "    <tr>\n",
              "      <th>3</th>\n",
              "      <td>000002b66c9c498e</td>\n",
              "      <td>xclick</td>\n",
              "      <td>/m/01g317</td>\n",
              "      <td>1</td>\n",
              "      <td>0.256250</td>\n",
              "      <td>0.429688</td>\n",
              "      <td>0.651563</td>\n",
              "      <td>0.925000</td>\n",
              "      <td>1</td>\n",
              "      <td>0</td>\n",
              "      <td>0</td>\n",
              "      <td>0</td>\n",
              "      <td>0</td>\n",
              "    </tr>\n",
              "    <tr>\n",
              "      <th>4</th>\n",
              "      <td>000002b66c9c498e</td>\n",
              "      <td>xclick</td>\n",
              "      <td>/m/01g317</td>\n",
              "      <td>1</td>\n",
              "      <td>0.257812</td>\n",
              "      <td>0.346875</td>\n",
              "      <td>0.235938</td>\n",
              "      <td>0.385938</td>\n",
              "      <td>1</td>\n",
              "      <td>0</td>\n",
              "      <td>0</td>\n",
              "      <td>0</td>\n",
              "      <td>0</td>\n",
              "    </tr>\n",
              "  </tbody>\n",
              "</table>\n",
              "</div>"
            ],
            "text/plain": [
              "            ImageID  Source  LabelName  ...  IsGroupOf  IsDepiction  IsInside\n",
              "0  000002b66c9c498e  xclick  /m/01g317  ...          0            0         0\n",
              "1  000002b66c9c498e  xclick  /m/01g317  ...          0            0         0\n",
              "2  000002b66c9c498e  xclick  /m/01g317  ...          0            0         0\n",
              "3  000002b66c9c498e  xclick  /m/01g317  ...          0            0         0\n",
              "4  000002b66c9c498e  xclick  /m/01g317  ...          0            0         0\n",
              "\n",
              "[5 rows x 13 columns]"
            ]
          },
          "metadata": {
            "tags": []
          },
          "execution_count": 10
        }
      ]
    },
    {
      "cell_type": "markdown",
      "metadata": {
        "id": "YVDUcn1uLYni"
      },
      "source": [
        "\n",
        "\n",
        "1 XMin, XMax, YMin, YMax: coordinates of the box, in normalized image coordinates.<br>\n",
        "2 IsOccluded: Indicates that the object is occluded by another object in the image.<br>\n",
        "3 IsTruncated: Indicates that the object extends beyond the boundary of the image.<br>\n",
        "4 IsGroupOf: Indicates that the box spans a group of objects (e.g., a bed of flowers or a crowd of people). We asked annotators to use this tag for cases with more than 5 instances which are heavily occluding each other and are physically touching.<br>\n",
        "5 IsDepiction: Indicates that the object is a depiction (e.g., a cartoon or drawing of the object, not a real physical instance).<br>\n",
        "6 IsInside: Indicates a picture taken from the inside of the object (e.g., a car interior or inside of a building).\n",
        "\n"
      ]
    },
    {
      "cell_type": "code",
      "metadata": {
        "colab": {
          "base_uri": "https://localhost:8080/",
          "height": 206
        },
        "id": "ALlUKQmhJMp2",
        "outputId": "41de12f9-8105-4b04-9bf4-09b74a5ac181"
      },
      "source": [
        "class_descriptions = pd.read_csv(class_descriptions_fname, header=None)\n",
        "class_descriptions.head()"
      ],
      "execution_count": null,
      "outputs": [
        {
          "output_type": "execute_result",
          "data": {
            "text/html": [
              "<div>\n",
              "<style scoped>\n",
              "    .dataframe tbody tr th:only-of-type {\n",
              "        vertical-align: middle;\n",
              "    }\n",
              "\n",
              "    .dataframe tbody tr th {\n",
              "        vertical-align: top;\n",
              "    }\n",
              "\n",
              "    .dataframe thead th {\n",
              "        text-align: right;\n",
              "    }\n",
              "</style>\n",
              "<table border=\"1\" class=\"dataframe\">\n",
              "  <thead>\n",
              "    <tr style=\"text-align: right;\">\n",
              "      <th></th>\n",
              "      <th>0</th>\n",
              "      <th>1</th>\n",
              "    </tr>\n",
              "  </thead>\n",
              "  <tbody>\n",
              "    <tr>\n",
              "      <th>0</th>\n",
              "      <td>/m/011k07</td>\n",
              "      <td>Tortoise</td>\n",
              "    </tr>\n",
              "    <tr>\n",
              "      <th>1</th>\n",
              "      <td>/m/011q46kg</td>\n",
              "      <td>Container</td>\n",
              "    </tr>\n",
              "    <tr>\n",
              "      <th>2</th>\n",
              "      <td>/m/012074</td>\n",
              "      <td>Magpie</td>\n",
              "    </tr>\n",
              "    <tr>\n",
              "      <th>3</th>\n",
              "      <td>/m/0120dh</td>\n",
              "      <td>Sea turtle</td>\n",
              "    </tr>\n",
              "    <tr>\n",
              "      <th>4</th>\n",
              "      <td>/m/01226z</td>\n",
              "      <td>Football</td>\n",
              "    </tr>\n",
              "  </tbody>\n",
              "</table>\n",
              "</div>"
            ],
            "text/plain": [
              "             0           1\n",
              "0    /m/011k07    Tortoise\n",
              "1  /m/011q46kg   Container\n",
              "2    /m/012074      Magpie\n",
              "3    /m/0120dh  Sea turtle\n",
              "4    /m/01226z    Football"
            ]
          },
          "metadata": {
            "tags": []
          },
          "execution_count": 14
        }
      ]
    },
    {
      "cell_type": "code",
      "metadata": {
        "id": "5Ie-XamcLRh9"
      },
      "source": [
        "def plot_bbox(img_id):\n",
        "  img_url = images_boxable.loc[images_boxable[\"ImageID\"]==img_id]['OriginalURL'].values[0]\n",
        "  img = io.imread(img_url)\n",
        "  height, width, channel = img.shape\n",
        "  print(f\"Image: {img.shape}\")\n",
        "  bboxs = annotations_bbox[annotations_bbox['ImageID']==img_id]\n",
        "  for index, row in bboxs.iterrows():\n",
        "      xmin = row['XMin']\n",
        "      xmax = row['XMax']\n",
        "      ymin = row['YMin']\n",
        "      ymax = row['YMax']\n",
        "      xmin = int(xmin*width)\n",
        "      xmax = int(xmax*width)\n",
        "      ymin = int(ymin*height)\n",
        "      ymax = int(ymax*height)\n",
        "      label_name = row['LabelName']\n",
        "      class_series = class_descriptions[class_descriptions[0]==label_name]\n",
        "      class_name = class_series[1].values[0]\n",
        "      print(f\"Coordinates: {xmin,ymin}, {xmax,ymax}\")\n",
        "      cv2.rectangle(img, (xmin,ymin), (xmax,ymax), (255,0,0), 5)\n",
        "      font = cv2.FONT_HERSHEY_SIMPLEX\n",
        "      cv2.putText(img, class_name, (xmin,ymin-10), font, 3, (0,255,0), 5)\n",
        "  plt.figure(figsize=(15,10))\n",
        "  plt.title('Image with Bounding Box')\n",
        "  plt.imshow(img)\n",
        "  plt.axis(\"off\")\n",
        "  plt.show()"
      ],
      "execution_count": null,
      "outputs": []
    },
    {
      "cell_type": "code",
      "metadata": {
        "id": "tlteM2DcL0W1"
      },
      "source": [],
      "execution_count": null,
      "outputs": []
    }
  ]
}